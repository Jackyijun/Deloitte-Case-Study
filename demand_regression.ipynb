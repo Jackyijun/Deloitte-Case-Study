{
 "cells": [
  {
   "cell_type": "code",
   "execution_count": 1,
   "metadata": {},
   "outputs": [],
   "source": [
    "import pandas as pd\n",
    "import csv\n",
    "import matplotlib.pyplot as plt\n",
    "import seaborn as sns"
   ]
  },
  {
   "cell_type": "code",
   "execution_count": 2,
   "metadata": {},
   "outputs": [],
   "source": [
    "fact_df = pd.read_csv('data/fact_table.csv', encoding='ISO-8859-1')\n",
    "customer_df = pd.read_csv('data/customer_dim.csv', encoding='ISO-8859-1')\n",
    "item_df = pd.read_csv('data/item_dim.csv', encoding='ISO-8859-1')\n",
    "store_df = pd.read_csv('data/store_dim.csv', encoding='ISO-8859-1')\n",
    "time_df = pd.read_csv('data/time_dim.csv', encoding='ISO-8859-1')"
   ]
  },
  {
   "cell_type": "code",
   "execution_count": 3,
   "metadata": {},
   "outputs": [],
   "source": [
    "df = (\n",
    "    fact_df.merge(time_df, how='left', on='time_key')\n",
    "    .merge(item_df, how='left', on='item_key')\n",
    "    .merge(customer_df, how='left', on='coustomer_key')\n",
    "    .merge(store_df, how='left', on='store_key')\n",
    ")"
   ]
  },
  {
   "cell_type": "code",
   "execution_count": 4,
   "metadata": {},
   "outputs": [],
   "source": [
    "def group_descs(desc):\n",
    "    if 'beverage' in desc.lower():\n",
    "        return 'Beverage'\n",
    "    elif 'food' in desc.lower():\n",
    "        return 'Food'\n",
    "    elif 'coffee' in desc.lower():\n",
    "        return 'Coffee'\n",
    "    elif 'dishware' in desc.lower():\n",
    "        return 'Dishware'\n",
    "    elif 'gum' in desc.lower():\n",
    "        return 'Gum'\n",
    "    else:\n",
    "        return desc\n",
    "\n",
    "df['item_type'] = df['desc'].apply(group_descs)"
   ]
  },
  {
   "cell_type": "code",
   "execution_count": 5,
   "metadata": {},
   "outputs": [],
   "source": [
    "monthly_revenue = df.groupby(['year', 'month', 'item_type'])['total_price'].sum().reset_index()"
   ]
  },
  {
   "cell_type": "code",
   "execution_count": 16,
   "metadata": {},
   "outputs": [
    {
     "data": {
      "text/html": [
       "<div>\n",
       "<style scoped>\n",
       "    .dataframe tbody tr th:only-of-type {\n",
       "        vertical-align: middle;\n",
       "    }\n",
       "\n",
       "    .dataframe tbody tr th {\n",
       "        vertical-align: top;\n",
       "    }\n",
       "\n",
       "    .dataframe thead th {\n",
       "        text-align: right;\n",
       "    }\n",
       "</style>\n",
       "<table border=\"1\" class=\"dataframe\">\n",
       "  <thead>\n",
       "    <tr style=\"text-align: right;\">\n",
       "      <th></th>\n",
       "      <th>year</th>\n",
       "      <th>month</th>\n",
       "      <th>item_type</th>\n",
       "      <th>total_price</th>\n",
       "    </tr>\n",
       "  </thead>\n",
       "  <tbody>\n",
       "    <tr>\n",
       "      <th>0</th>\n",
       "      <td>2014</td>\n",
       "      <td>1</td>\n",
       "      <td>Beverage</td>\n",
       "      <td>175429.75</td>\n",
       "    </tr>\n",
       "    <tr>\n",
       "      <th>1</th>\n",
       "      <td>2014</td>\n",
       "      <td>1</td>\n",
       "      <td>Coffee</td>\n",
       "      <td>77956.00</td>\n",
       "    </tr>\n",
       "    <tr>\n",
       "      <th>2</th>\n",
       "      <td>2014</td>\n",
       "      <td>1</td>\n",
       "      <td>Dishware</td>\n",
       "      <td>39354.00</td>\n",
       "    </tr>\n",
       "    <tr>\n",
       "      <th>3</th>\n",
       "      <td>2014</td>\n",
       "      <td>1</td>\n",
       "      <td>Food</td>\n",
       "      <td>149945.00</td>\n",
       "    </tr>\n",
       "    <tr>\n",
       "      <th>4</th>\n",
       "      <td>2014</td>\n",
       "      <td>1</td>\n",
       "      <td>Gum</td>\n",
       "      <td>10822.00</td>\n",
       "    </tr>\n",
       "    <tr>\n",
       "      <th>...</th>\n",
       "      <td>...</td>\n",
       "      <td>...</td>\n",
       "      <td>...</td>\n",
       "      <td>...</td>\n",
       "    </tr>\n",
       "    <tr>\n",
       "      <th>590</th>\n",
       "      <td>2021</td>\n",
       "      <td>1</td>\n",
       "      <td>Dishware</td>\n",
       "      <td>73542.00</td>\n",
       "    </tr>\n",
       "    <tr>\n",
       "      <th>591</th>\n",
       "      <td>2021</td>\n",
       "      <td>1</td>\n",
       "      <td>Food</td>\n",
       "      <td>270295.50</td>\n",
       "    </tr>\n",
       "    <tr>\n",
       "      <th>592</th>\n",
       "      <td>2021</td>\n",
       "      <td>1</td>\n",
       "      <td>Gum</td>\n",
       "      <td>20714.00</td>\n",
       "    </tr>\n",
       "    <tr>\n",
       "      <th>593</th>\n",
       "      <td>2021</td>\n",
       "      <td>1</td>\n",
       "      <td>Kitchen Supplies</td>\n",
       "      <td>70819.50</td>\n",
       "    </tr>\n",
       "    <tr>\n",
       "      <th>594</th>\n",
       "      <td>2021</td>\n",
       "      <td>1</td>\n",
       "      <td>Medicine</td>\n",
       "      <td>4744.00</td>\n",
       "    </tr>\n",
       "  </tbody>\n",
       "</table>\n",
       "<p>595 rows × 4 columns</p>\n",
       "</div>"
      ],
      "text/plain": [
       "     year  month         item_type  total_price\n",
       "0    2014      1          Beverage    175429.75\n",
       "1    2014      1            Coffee     77956.00\n",
       "2    2014      1          Dishware     39354.00\n",
       "3    2014      1              Food    149945.00\n",
       "4    2014      1               Gum     10822.00\n",
       "..    ...    ...               ...          ...\n",
       "590  2021      1          Dishware     73542.00\n",
       "591  2021      1              Food    270295.50\n",
       "592  2021      1               Gum     20714.00\n",
       "593  2021      1  Kitchen Supplies     70819.50\n",
       "594  2021      1          Medicine      4744.00\n",
       "\n",
       "[595 rows x 4 columns]"
      ]
     },
     "execution_count": 16,
     "metadata": {},
     "output_type": "execute_result"
    }
   ],
   "source": [
    "monthly_revenue"
   ]
  },
  {
   "cell_type": "code",
   "execution_count": 27,
   "metadata": {},
   "outputs": [],
   "source": [
    "from sklearn.model_selection import train_test_split\n",
    "from sklearn.preprocessing import OneHotEncoder\n",
    "from sklearn.ensemble import RandomForestRegressor\n",
    "from sklearn.metrics import mean_squared_error, r2_score\n",
    "import numpy as np"
   ]
  },
  {
   "cell_type": "code",
   "execution_count": 28,
   "metadata": {},
   "outputs": [],
   "source": [
    "item_encoder = OneHotEncoder()\n",
    "encoded_item_types = item_encoder.fit_transform(monthly_revenue[['item_type']]).toarray()\n",
    "encoded_item_types_df = pd.DataFrame(encoded_item_types, columns=item_encoder.get_feature_names_out(['item_type']))\n",
    "\n",
    "month_encoder = OneHotEncoder()\n",
    "encoded_months = month_encoder.fit_transform(monthly_revenue[['month']]).toarray()\n",
    "encoded_months_df = pd.DataFrame(encoded_months, columns=month_encoder.get_feature_names_out(['month']))\n",
    "\n",
    "features = pd.concat([encoded_months_df, encoded_item_types_df], axis=1)\n",
    "target = monthly_revenue['total_price']\n",
    "X_train, X_test, y_train, y_test = train_test_split(features, target, test_size=0.2, random_state=56)"
   ]
  },
  {
   "cell_type": "code",
   "execution_count": 29,
   "metadata": {},
   "outputs": [],
   "source": [
    "model = RandomForestRegressor(n_estimators=100, random_state=46)\n",
    "model.fit(X_train, y_train)\n",
    "\n",
    "# Make predictions on the test set\n",
    "y_pred = model.predict(X_test)"
   ]
  },
  {
   "cell_type": "code",
   "execution_count": 30,
   "metadata": {},
   "outputs": [
    {
     "name": "stdout",
     "output_type": "stream",
     "text": [
      "Mean Squared Error: 613076960.648993\n",
      "R-squared: 0.976768477401435\n"
     ]
    }
   ],
   "source": [
    "mse = mean_squared_error(y_test, y_pred)\n",
    "r2 = r2_score(y_test, y_pred)\n",
    "\n",
    "print(f\"Mean Squared Error: {mse}\")\n",
    "print(f\"R-squared: {r2}\")"
   ]
  },
  {
   "cell_type": "code",
   "execution_count": null,
   "metadata": {},
   "outputs": [],
   "source": []
  }
 ],
 "metadata": {
  "kernelspec": {
   "display_name": "dsc80",
   "language": "python",
   "name": "python3"
  },
  "language_info": {
   "codemirror_mode": {
    "name": "ipython",
    "version": 3
   },
   "file_extension": ".py",
   "mimetype": "text/x-python",
   "name": "python",
   "nbconvert_exporter": "python",
   "pygments_lexer": "ipython3",
   "version": "3.8.18"
  }
 },
 "nbformat": 4,
 "nbformat_minor": 2
}
